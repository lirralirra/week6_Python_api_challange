{
 "cells": [
  {
   "cell_type": "markdown",
   "metadata": {},
   "source": [
    "# WeatherPy\n",
    "\n",
    "---\n",
    "\n",
    "## Starter Code to Generate Random Geographic Coordinates and a List of Cities"
   ]
  },
  {
   "cell_type": "code",
   "metadata": {
    "scrolled": true
   },
   "source": [
    "# Dependencies and Setup\n",
    "import matplotlib.pyplot as plt\n",
    "import pandas as pd\n",
    "import numpy as np\n",
    "import requests\n",
    "import time\n",
    "from scipy import stats\n",
    "from scipy.stats import linregress\n",
    "import os\n",
    "\n",
    "# Impor the OpenWeatherMap API key\n",
    "from api_keys import weather_api_key\n",
    "\n",
    "# Import citipy to determine the cities based on latitude and longitude\n",
    "from citipy import citipy"
   ],
   "outputs": [],
   "execution_count": null
  },
  {
   "cell_type": "markdown",
   "metadata": {},
   "source": [
    "### Generate the Cities List by Using the `citipy` Library"
   ]
  },
  {
   "cell_type": "code",
   "metadata": {},
   "source": [
    "# Empty list for holding the latitude and longitude combinations\n",
    "lat_lngs = []\n",
    "\n",
    "# Empty list for holding the cities names\n",
    "cities = []\n",
    "\n",
    "# Range of latitudes and longitudes\n",
    "lat_range = (-90, 90)\n",
    "lng_range = (-180, 180)\n",
    "\n",
    "# Create a set of random lat and lng combinations\n",
    "lats = np.random.uniform(lat_range[0], lat_range[1], size=1500)\n",
    "lngs = np.random.uniform(lng_range[0], lng_range[1], size=1500)\n",
    "lat_lngs = zip(lats, lngs)\n",
    "\n",
    "# Identify nearest city for each lat, lng combination\n",
    "for lat_lng in lat_lngs:\n",
    "    city = citipy.nearest_city(lat_lng[0], lat_lng[1]).city_name\n",
    "\n",
    "    # If the city is unique, then add it to a our cities list\n",
    "    if city not in cities:\n",
    "        cities.append(city)\n",
    "\n",
    "# Print the city count to confirm sufficient count\n",
    "print(f\"Number of cities in the list: {len(cities)}\")"
   ],
   "outputs": [],
   "execution_count": null
  },
  {
   "cell_type": "markdown",
   "metadata": {},
   "source": [
    "---"
   ]
  },
  {
   "cell_type": "markdown",
   "metadata": {},
   "source": [
    "## Requirement 1: Create Plots to Showcase the Relationship Between Weather Variables and Latitude\n",
    "\n",
    "### Use the OpenWeatherMap API to retrieve weather data from the cities list generated in the started code"
   ]
  },
  {
   "cell_type": "code",
   "metadata": {},
   "source": [
    "# Set the API base URL\n",
    "url = 'http://api.openweathermap.org/data/2.5/weather' # YOUR CODE HERE\n",
    "\n",
    "# Define an empty list to fetch the weather data for each city\n",
    "city_data = []\n",
    "\n",
    "# Print to logger\n",
    "print(\"Beginning Data Retrieval     \")\n",
    "print(\"-----------------------------\")\n",
    "\n",
    "# Create counters\n",
    "record_count = 1\n",
    "set_count = 1\n",
    "\n",
    "# Loop through all the cities in our list to fetch weather data\n",
    "for i, city in enumerate(cities):\n",
    "\n",
    "    # Group cities in sets of 50 for logging purposes\n",
    "    if (i % 50 == 0 and i >= 50):\n",
    "        set_count += 1\n",
    "        record_count = 0\n",
    "\n",
    "    # Create endpoint URL with each city\n",
    "    city_url = f\"{url}?appid={weather_api_key}&units=imperial&q={city}\" # YOUR CODE HERE\n",
    "\n",
    "    # Log the url, record, and set numbers\n",
    "    print(\"Processing Record %s of Set %s | %s\" % (record_count, set_count, city))\n",
    "\n",
    "    # Add 1 to the record count\n",
    "    record_count += 1\n",
    "\n",
    "    # Run an API request for each of the cities\n",
    "    try:\n",
    "        # Parse the JSON and retrieve data\n",
    "        city_weather = requests.get(city_url).json() # YOUR CODE HERE\n",
    "\n",
    "        # Parse out latitude, longitude, max temp, humidity, cloudiness, wind speed, country, and date\n",
    "        city_lat = city_weather['coord']['lat']# YOUR CODE HERE\n",
    "        city_lng = city_weather['coord']['lon']# YOUR CODE HERE\n",
    "        city_max_temp = city_weather['main']['temp_max']# YOUR CODE HERE\n",
    "        city_humidity = city_weather['main']['humidity']# YOUR CODE HERE\n",
    "        city_clouds = city_weather['clouds']['all']# YOUR CODE HERE\n",
    "        city_wind = city_weather['wind']['speed']# YOUR CODE HERE\n",
    "        city_country = city_weather['sys']['country']# YOUR CODE HERE\n",
    "        city_date = city_weather['dt'] # YOUR CODE HERE\n",
    "\n",
    "        # Append the City information into city_data list\n",
    "        city_data.append({\"City\": city,\n",
    "                          \"Lat\": city_lat,\n",
    "                          \"Lng\": city_lng,\n",
    "                          \"Max Temp\": city_max_temp,\n",
    "                          \"Humidity\": city_humidity,\n",
    "                          \"Cloudiness\": city_clouds,\n",
    "                          \"Wind Speed\": city_wind,\n",
    "                          \"Country\": city_country,\n",
    "                          \"Date\": city_date})\n",
    "\n",
    "    # If an error is experienced, skip the city\n",
    "    except:\n",
    "        print(\"City not found. Skipping...\")\n",
    "        pass\n",
    "\n",
    "    # pause to avoid rate limiting\n",
    "    time.sleep(1)\n",
    "\n",
    "# Indicate that Data Loading is complete\n",
    "print(\"-----------------------------\")\n",
    "print(\"Data Retrieval Complete      \")\n",
    "print(\"-----------------------------\")"
   ],
   "outputs": [],
   "execution_count": null
  },
  {
   "cell_type": "code",
   "metadata": {},
   "source": [
    "# Convert the cities weather data into a Pandas DataFrame\n",
    "city_data_df = pd.DataFrame(city_data)# YOUR CODE HERE\n",
    "\n",
    "# Show Record Count\n",
    "city_data_df.count()\n",
    "\n",
    "#city_data_df"
   ],
   "outputs": [],
   "execution_count": null
  },
  {
   "cell_type": "code",
   "metadata": {},
   "source": [
    "# Display sample data\n",
    "city_data_df.head()"
   ],
   "outputs": [],
   "execution_count": null
  },
  {
   "cell_type": "code",
   "metadata": {},
   "source": [
    "# Export the City_Data into a csv\n",
    "\n",
    "if not os.path.exists('output_data'):\n",
    "    os.makedirs('output_data') # create folder if not\n",
    "    \n",
    "city_data_df.to_csv(\"output_data/cities.csv\", index_label=\"City_ID\")"
   ],
   "outputs": [],
   "execution_count": null
  },
  {
   "cell_type": "code",
   "metadata": {},
   "source": [
    "# Read saved data\n",
    "city_data_df = pd.read_csv(\"output_data/cities.csv\", index_col=\"City_ID\")\n",
    "\n",
    "# Display sample data\n",
    "city_data_df.head()"
   ],
   "outputs": [],
   "execution_count": null
  },
  {
   "metadata": {},
   "cell_type": "code",
   "source": "",
   "outputs": [],
   "execution_count": null
  },
  {
   "cell_type": "markdown",
   "metadata": {},
   "source": [
    "### Create the Scatter Plots Requested\n",
    "\n",
    "#### Latitude Vs. Temperature"
   ]
  },
  {
   "cell_type": "code",
   "metadata": {
    "tags": []
   },
   "source": [
    "# Build scatter plot for latitude vs. temperature\n",
    "import seaborn as sns\n",
    "\n",
    "plt.figure (figsize = (10,6))\n",
    "sns.scatterplot(x='Lat', y='Max Temp', data=city_data_df)\n",
    "\n",
    "# Incorporate the other graph properties\n",
    "plt.title('Latitude vs. Maximum Temperature (2024-9-27)', fontsize=16)  \n",
    "plt.xlabel('Latitude', fontsize=14)  \n",
    "plt.ylabel('Maximum Temperature (°F)', fontsize=14)  \n",
    "plt.grid(True)\n",
    "\n",
    "# Save the figure\n",
    "plt.savefig(\"output_data/Fig1.png\")\n",
    "\n",
    "# Show plot\n",
    "plt.show()"
   ],
   "outputs": [],
   "execution_count": null
  },
  {
   "cell_type": "markdown",
   "metadata": {},
   "source": [
    "#### Latitude Vs. Humidity"
   ]
  },
  {
   "cell_type": "code",
   "metadata": {},
   "source": [
    "# Build the scatter plots for latitude vs. humidity\n",
    "# YOUR CODE HERE\n",
    "\n",
    "plt.figure (figsize = (10,6))\n",
    "sns.scatterplot(x='Lat', y='Humidity', data=city_data_df)\n",
    "\n",
    "# Incorporate the other graph properties\n",
    "plt.title('Latitude vs. Humidity (2024-9-27)', fontsize=16)\n",
    "plt.xlabel('Latitude', fontsize=14) \n",
    "plt.ylabel('Humidity (%)', fontsize=14)\n",
    "plt.grid(True)\n",
    "\n",
    "# Save the figure\n",
    "plt.savefig(\"output_data/Fig2.png\")\n",
    "\n",
    "# Show plot\n",
    "plt.show()\n"
   ],
   "outputs": [],
   "execution_count": null
  },
  {
   "cell_type": "markdown",
   "metadata": {},
   "source": [
    "#### Latitude Vs. Cloudiness"
   ]
  },
  {
   "cell_type": "code",
   "metadata": {},
   "source": [
    "# Build the scatter plots for latitude vs. cloudiness\n",
    "plt.figure (figsize = (10,6))\n",
    "sns.scatterplot(x='Lat', y='Cloudiness', data=city_data_df)\n",
    "\n",
    "# Incorporate the other graph properties\n",
    "plt.title('Latitude vs. Cloudiness (2024-9-27)', fontsize=16)\n",
    "plt.xlabel('Latitude', fontsize=14)  \n",
    "plt.ylabel('Cloudiness (%)', fontsize=14)\n",
    "plt.grid(True)\n",
    "\n",
    "# Save the figure\n",
    "plt.savefig(\"output_data/Fig3.png\")\n",
    "\n",
    "# Show plot\n",
    "plt.show()"
   ],
   "outputs": [],
   "execution_count": null
  },
  {
   "cell_type": "markdown",
   "metadata": {},
   "source": [
    "#### Latitude vs. Wind Speed Plot"
   ]
  },
  {
   "cell_type": "code",
   "metadata": {},
   "source": [
    "# Build the scatter plots for latitude vs. wind speed\n",
    "plt.figure (figsize = (10,6))\n",
    "sns.scatterplot(x='Lat', y='Wind Speed', data=city_data_df)\n",
    "\n",
    "# Incorporate the other graph properties\n",
    "plt.title('Latitude vs. Wind speed (2024-9-27)', fontsize=16)\n",
    "plt.xlabel('Latitude', fontsize=14)\n",
    "plt.ylabel('Wind speed (M/S)', fontsize=14)\n",
    "plt.grid(True)\n",
    "\n",
    "# Save the figure\n",
    "plt.savefig(\"output_data/Fig4.png\")\n",
    "\n",
    "# Show plot\n",
    "plt.show()"
   ],
   "outputs": [],
   "execution_count": null
  },
  {
   "cell_type": "markdown",
   "metadata": {},
   "source": [
    "---\n",
    "\n",
    "## Requirement 2: Compute Linear Regression for Each Relationship\n"
   ]
  },
  {
   "cell_type": "code",
   "metadata": {},
   "source": [
    "# Define a function to create Linear Regression plot\n",
    "\n",
    "def Linear_Weather_vs_latitude(x_values, y_values, y_label, position_x, position_y):\n",
    "    # Perform linear regression\n",
    "    (slope, intercept, rvalue, pvalue, stderr) = stats.linregress(x_values, y_values)\n",
    "\n",
    "    # Get regression values\n",
    "    regress_values = x_values * slope + intercept\n",
    "\n",
    "    # Create the line equation\n",
    "    line_eq = f\"y = {round(slope, 2)}x + {round(intercept, 2)}\"\n",
    "\n",
    "    # Create Plot\n",
    "    plt.figure (figsize = (10,6))\n",
    "    plt.scatter(x_values, y_values, color='blue')\n",
    "    plt.plot(x_values, regress_values, \"r-\")\n",
    "\n",
    "    # Label plot and annotate the line equation\n",
    "    plt.xlabel('Latitude')\n",
    "    plt.ylabel(y_label)\n",
    "    plt.annotate(line_eq, (position_x, position_y), fontsize=15, color=\"red\")\n",
    "    plt.title(f\"Latitude vs {y_label}\")\n",
    "\n",
    "    # Print r^2 value\n",
    "    r_squared = rvalue**2\n",
    "    print(f\"The r^2-value is: {r_squared}\")\n",
    "\n",
    "    # Show plot\n",
    "    plt.show()"
   ],
   "outputs": [],
   "execution_count": null
  },
  {
   "cell_type": "code",
   "metadata": {},
   "source": [
    "# Create a DataFrame with the Northern Hemisphere data (Latitude >= 0)\n",
    "# YOUR CODE HERE\n",
    "northern_hemi_df = city_data_df[city_data_df['Lat'] >= 0]\n",
    "\n",
    "# Display sample data\n",
    "northern_hemi_df.head()"
   ],
   "outputs": [],
   "execution_count": null
  },
  {
   "cell_type": "code",
   "metadata": {},
   "source": [
    "# Create a DataFrame with the Southern Hemisphere data (Latitude < 0)\n",
    "# YOUR CODE HERE\n",
    "southern_hemi_df = city_data_df[city_data_df['Lat'] < 0]\n",
    "\n",
    "# Display sample data\n",
    "southern_hemi_df.head()"
   ],
   "outputs": [],
   "execution_count": null
  },
  {
   "cell_type": "markdown",
   "metadata": {},
   "source": [
    "###  Temperature vs. Latitude Linear Regression Plot"
   ]
  },
  {
   "cell_type": "code",
   "metadata": {},
   "source": [
    "# Linear regression on Northern Hemisphere\n",
    "# YOUR CODE HERE\n",
    "Linear_Weather_vs_latitude(northern_hemi_df['Lat'], northern_hemi_df['Max Temp'], \"Maximum Temperature (°F)\",10,40)\n"
   ],
   "outputs": [],
   "execution_count": null
  },
  {
   "cell_type": "code",
   "metadata": {},
   "source": [
    "# Linear regression on Southern Hemisphere\n",
    "# YOUR CODE HERE\n",
    "Linear_Weather_vs_latitude(southern_hemi_df['Lat'], southern_hemi_df['Max Temp'], \n",
    "                           \"Maximum Temperature (°F)\", -50,85)"
   ],
   "outputs": [],
   "execution_count": null
  },
  {
   "cell_type": "markdown",
   "metadata": {},
   "source": [
    "**Discussion about the linear relationship:** \n",
    "In the Northern Hemisphere, there is a moderate negative correlation (y=−0.75x+93.89,R² Value: 0.70), \n",
    "indicating that as latitude increases, maximum temperature decreases. \n",
    "The R² value of 0.70 suggests that about 70% of the variance in temperature is explained by latitude.\n",
    "\n",
    "Conversely, the Southern Hemisphere shows a moderate positive correlation (y=0.75x+83.91\n",
    "R² Value: 0.59), where higher latitudes correspond to higher maximum temperatures. \n",
    "The R² value of 0.59 indicates that approximately 59% of the variance is explained by latitude. "
   ]
  },
  {
   "metadata": {},
   "cell_type": "markdown",
   "source": ""
  },
  {
   "cell_type": "markdown",
   "metadata": {},
   "source": [
    "### Humidity vs. Latitude Linear Regression Plot"
   ]
  },
  {
   "cell_type": "code",
   "metadata": {},
   "source": [
    "# Northern Hemisphere\n",
    "# YOUR CODE HERE\n",
    "Linear_Weather_vs_latitude(northern_hemi_df['Lat'], northern_hemi_df['Humidity'], \n",
    "                           \"Humidity (%)\", 60,20)"
   ],
   "outputs": [],
   "execution_count": null
  },
  {
   "cell_type": "code",
   "metadata": {},
   "source": [
    "# Southern Hemisphere\n",
    "# YOUR CODE HERE\n",
    "Linear_Weather_vs_latitude(southern_hemi_df['Lat'], southern_hemi_df['Humidity'], \n",
    "                           \"Humidity (%)\",-50,20)"
   ],
   "outputs": [],
   "execution_count": null
  },
  {
   "cell_type": "markdown",
   "metadata": {},
   "source": [
    "Both hemispheres show minimal correlation with latitude. \n",
    "In the Northern Hemisphere, there is a very weak positive correlation (y = 0.11x + 65.32, R² Value: 0.0091), \n",
    "indicating that only about 0.91% of the variance in humidity is explained by latitude. \n",
    "Similarly, the Southern Hemisphere exhibits an almost negligible correlation (y = 0.0x + 73.73, R² Value: 0.0000112), \n",
    "suggesting that latitude has virtually no effect on humidity levels, with less than 0.001% of the variance explained."
   ]
  },
  {
   "cell_type": "markdown",
   "metadata": {},
   "source": [
    "### Cloudiness vs. Latitude Linear Regression Plot"
   ]
  },
  {
   "cell_type": "code",
   "metadata": {},
   "source": [
    "# Northern Hemisphere\n",
    "# YOUR CODE HERE\n",
    "Linear_Weather_vs_latitude(northern_hemi_df['Lat'], northern_hemi_df['Cloudiness'], \n",
    "                           \"Cloudiness\",60,10)"
   ],
   "outputs": [],
   "execution_count": null
  },
  {
   "cell_type": "code",
   "metadata": {},
   "source": [
    "# Southern Hemisphere\n",
    "# YOUR CODE HERE\n",
    "Linear_Weather_vs_latitude(southern_hemi_df['Lat'], southern_hemi_df['Cloudiness'], \"Cloudiness\",-50,10)\n"
   ],
   "outputs": [],
   "execution_count": null
  },
  {
   "cell_type": "markdown",
   "metadata": {},
   "source": [
    "Overall, both hemispheres demonstrate that latitude has a minimal effect on cloudiness,\n",
    "with very low R² values indicating that other factors likely play a more significant role in determining cloud cover.\n",
    " Specifically, In the Northern Hemisphere, the analysis reveals a very weak positive correlation between latitude and cloudiness (y = 0.22x + 50.47, R² Value: 0.0116). The R² value of 0.0116 indicates that only about 1.16% of the variance in cloudiness is explained by latitude, suggesting that latitude has minimal impact on cloud cover in this region.\n",
    "Similarly, in the Southern Hemisphere, there is an even weaker correlation (y = -0.09x + 52.19, R² Value: 0.0009), indicating a negligible relationship between latitude and cloudiness. The R² value of 0.0009 suggests that less than 0.1% of the variance in cloudiness can be attributed to latitude."
   ]
  },
  {
   "cell_type": "markdown",
   "metadata": {},
   "source": [
    "### Wind Speed vs. Latitude Linear Regression Plot"
   ]
  },
  {
   "cell_type": "code",
   "metadata": {},
   "source": [
    "# Northern Hemisphere\n",
    "# YOUR CODE HERE\n",
    "Linear_Weather_vs_latitude(northern_hemi_df['Lat'], northern_hemi_df['Wind Speed'], \n",
    "                           \"Wind Speed(m/s)\",20,30)"
   ],
   "outputs": [],
   "execution_count": null
  },
  {
   "cell_type": "code",
   "metadata": {},
   "source": [
    "# Southern Hemisphere\n",
    "# YOUR CODE HERE\n",
    "Linear_Weather_vs_latitude(southern_hemi_df['Lat'], southern_hemi_df['Wind Speed'], \n",
    "                           \"Wind Speed (m/s)\", -20,30)"
   ],
   "outputs": [],
   "execution_count": null
  },
  {
   "cell_type": "markdown",
   "metadata": {},
   "source": [
    "Overall, while the Southern Hemisphere exhibits a slightly stronger correlation than the Northern Hemisphere, both regions demonstrate that latitude has a relatively minor effect on wind speed.\n",
    "In the Northern Hemisphere, the analysis indicates a very weak positive correlation between latitude and wind speed (y = 0.01x + 8.13, R² Value: 0.0027). The R² value of 0.0027 suggests that only about 0.27% of the variance in wind speed is explained by latitude, indicating that latitude has minimal influence on wind speed in this region.\n",
    "In contrast, the Southern Hemisphere shows a somewhat stronger relationship (y = -0.15x + 6.34, R² Value: 0.0945), with a moderate negative correlation. The R² value of 0.0945 indicates that approximately 9.45% of the variance in wind speed can be attributed to latitude, suggesting a more significant but still limited impact compared to other influencing factors.\n"
   ]
  },
  {
   "cell_type": "code",
   "metadata": {},
   "source": [],
   "outputs": [],
   "execution_count": null
  }
 ],
 "metadata": {
  "anaconda-cloud": {},
  "kernel_info": {
   "name": "python3"
  },
  "kernelspec": {
   "display_name": "Python 3 (ipykernel)",
   "language": "python",
   "name": "python3"
  },
  "language_info": {
   "codemirror_mode": {
    "name": "ipython",
    "version": 3
   },
   "file_extension": ".py",
   "mimetype": "text/x-python",
   "name": "python",
   "nbconvert_exporter": "python",
   "pygments_lexer": "ipython3",
   "version": "3.10.4"
  },
  "latex_envs": {
   "LaTeX_envs_menu_present": true,
   "autoclose": false,
   "autocomplete": true,
   "bibliofile": "biblio.bib",
   "cite_by": "apalike",
   "current_citInitial": 1,
   "eqLabelWithNumbers": true,
   "eqNumInitial": 1,
   "hotkeys": {
    "equation": "Ctrl-E",
    "itemize": "Ctrl-I"
   },
   "labels_anchors": false,
   "latex_user_defs": false,
   "report_style_numbering": false,
   "user_envs_cfg": false
  },
  "nteract": {
   "version": "0.12.3"
  }
 },
 "nbformat": 4,
 "nbformat_minor": 4
}
